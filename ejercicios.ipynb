{
 "cells": [
  {
   "cell_type": "markdown",
   "metadata": {},
   "source": [
    "## Variables/Operaciones\n",
    "\n",
    "Suma: asignar dos números en dos variables diferentes `cantidad_de_manzanas` y `cantidad_de_naranjas`. Luego sumar ambas variables en `cantidad_de_frutas`. Imprimir la última variable.\n",
    "\n",
    "Resta: asignar un valor numérico a la variable `frutas_vendidas`. Luego, asignar la resta entre `cantidad_de_frutas` y `frutas_vendidas` a la variable `frutas_restantes`. Imprimir la última variable.\n"
   ]
  },
  {
   "cell_type": "markdown",
   "metadata": {},
   "source": [
    "## Concatenacion \n",
    "\n",
    "Asignar el nombre y el apellido de tu compañera/o a las variables nombre y apellido. Luego, imprimir una frase, utilizando las variables.\n",
    "EJEMPLO: \"Hola. Me llamo Analia Britez. Mucho gusto.\""
   ]
  },
  {
   "cell_type": "markdown",
   "metadata": {},
   "source": [
    "## Input/Tipos de datos\n",
    "\n",
    "Solicitar al usuario ingresar dos números y almacenarlos en dos variables. Luego, imprimir la suma de los dos números."
   ]
  },
  {
   "cell_type": "markdown",
   "metadata": {},
   "source": [
    "## Funciones\n",
    "\n",
    "Crear una función de un proceso que se les ocurra que tenga varios pasos.\n",
    "Ejecutar la función 3 veces."
   ]
  },
  {
   "cell_type": "markdown",
   "metadata": {},
   "source": [
    "## Parametros y Argumentos\n",
    "\n",
    "Dada la función que acabamos de crear, solicitar más información al usuario sobre el lavarropas que quiere comprar.\n",
    "Integrar la información a los mensajes que se muestran en la función."
   ]
  },
  {
   "cell_type": "markdown",
   "metadata": {},
   "source": [
    "## Scope\n",
    "\n",
    "Un lavarropas tiene una cantidad de 1 kg de prendas adentro.\n",
    "Decide cargar más prendas antes de hacerlo funcionar.\n",
    "\n",
    "Crear una función que reciba la cantidad de prengas que se quiere cargar (kg) y que se sume a la cantidad de prendas ya adentro del lavarropas."
   ]
  },
  {
   "cell_type": "markdown",
   "metadata": {},
   "source": [
    "## Condicionales\n",
    "\n",
    "Escribir un programa en el que se pregunte al usuario por una temperatura (en grados Celsius), imprima la temperatura escrita, y luego clasificar la temperatura ingresada en los siguientes niveles:\n",
    "\n",
    "Entre -10 y 18 grados, que imprima \"Fresquete\".\n",
    "Entre 19 y 30 grados, que imprima \"Calor'i\".\n",
    "Entre 31 y 45 grados, que imprima \"Hakuuuuuu\".\n",
    "Para todo lo demás, imprimir \"Ñamano mba'e!\"."
   ]
  },
  {
   "cell_type": "markdown",
   "metadata": {},
   "source": [
    "## While\n",
    "\n",
    "Escribir un programa que almacene una contraseña en una variable, y pregunte al usuario por la contraseña hasta que introduzca la contraseña correcta.\n",
    "\n",
    "Cuando el usuario ingrese la contrasena correcta, imprimir un mensaje secreto."
   ]
  },
  {
   "cell_type": "markdown",
   "metadata": {},
   "source": [
    "## Bucles Infinitos \n",
    "\n",
    "Escribir un programa que almacene una contraseña en una variable, y pregunte al usuario por la contraseña hasta que introduzca la contraseña correcta.\n",
    "\n",
    "Cuando el usuario ingrese la contrasena correcta, imprimir un mensaje secreto."
   ]
  },
  {
   "cell_type": "markdown",
   "metadata": {},
   "source": [
    "## Listas\n",
    "\n",
    "Crear una lista de 5 elementos. Luego, seguir los siguientes pasos.\n",
    "\n",
    "- Agregar un elemento al final de la lista.\n",
    "\n",
    "- Modificar el segundo elemento.\n",
    "\n",
    "- Eliminar el tercer elemento."
   ]
  },
  {
   "cell_type": "markdown",
   "metadata": {},
   "source": [
    "## For\n",
    "\n",
    "__Range__ \n",
    "\n",
    "Escribir un programa que itere en un rango de 10 veces. Por cada iteracion multiplicar el iterador por dos e imprimir el resultado.\n",
    "\n",
    "__Recorrer Listas__\n",
    "\n",
    "Recorrer los elementos de una lista de marcas e imprimir cada marca *__solamente__* si tiene 6 letras o más.\n",
    "\n",
    "__Recorrer Palabras__\n",
    "\n",
    "Solicitar al usuario que ingrese una frase.\n",
    "\n",
    "Imprimir un mensaje cada vez que se encuentre una letra \"o\"."
   ]
  },
  {
   "cell_type": "markdown",
   "metadata": {},
   "source": [
    "## Repaso y proyecto (Wordle)\n",
    "\n",
    "__Challenge 1__\n",
    "\n",
    "Crear una función que imprima la variable palabra.\n",
    "\n",
    "__Challenge 2__\n",
    "\n",
    "Crear una función que reciba dos letras (parámetros) y que verifique si son iguales:\n",
    "\n",
    "1. Si son iguales, imprimir \"Las letras son iguales\".\n",
    "\n",
    "2. De lo contrario, imprimir \"Las letras son diferentes\".\n",
    "\n",
    "__Challenge 3__\n",
    "\n",
    "Crear una función que reciba dos parámetros (una palabra y un número), y que devuelva `True` si el número es igual a la cantidad de letras de la palabra. En caso contrario, que devuelva `False`.\n",
    "\n",
    "Pista: `cantidad de letras de una palabra en python`\n",
    "\n",
    "__Challenge 4__\n",
    "\n",
    "Crear función que revise si una palabra contiene una letra. En caso de que la contenga, retornar la letra entre corchetes `[]`. De lo contrario, retornar solo la letra.\n",
    "\n",
    "__Challenge 5__\n",
    "\n",
    "Pedir al usuario que ingrese 1 palabra, luego convertir esa palabra a una lista con sus caracteres con `list()`. Agregar esa lista de caracteres a una lista llamada `palabras_ingresadas`. Repetir el proceso 3 veces. Cada vez que se agregue una lista de caracteres, imprimir la lista `palabras_ingresadas`.\n",
    "\n",
    "\n",
    "Ejemplo del resultado esperado:\n",
    "\n",
    "```[['c', 'i', 'e', 'l', 'o']]``` # Al ingresar la primera palabra\n",
    "\n",
    "```[['c', 'i', 'e', 'l', 'o'], ['c', 'a', 'l', 'o', 'r']]``` # Al ingresar la segunda palabra\n",
    "\n",
    "```[['c', 'i', 'e', 'l', 'o'], ['c', 'a', 'l', 'o', 'r'], ['n', 'u', 'b', 'e', 's']]``` # Al ingresar la tercera palabra\n",
    "\n",
    "__Challenge 6__\n",
    "\n",
    "Dada la lista de ejemplo: \n",
    "\n",
    "lista = [['h', 'o', 'l', 'i', 's'], ['h', 'e', 'l', 'l', 'o'], ['h', 'a', 'l', 'l', 'o']]\n",
    "\n",
    "Crear una función que imprima una grilla (lista de listas), una línea por cada lista dentro de la lista principal.\n",
    "\n",
    "Ejemplo del resultado esperado:\n",
    "\n",
    "```\n",
    "['h', 'o', 'l', 'i', 's']\n",
    "['h', 'e', 'l', 'l', 'o']\n",
    "['h', 'a', 'l', 'l', 'o']"
   ]
  },
  {
   "cell_type": "markdown",
   "metadata": {},
   "source": [
    "## Wordle resuelto:"
   ]
  },
  {
   "cell_type": "code",
   "execution_count": null,
   "metadata": {},
   "outputs": [],
   "source": [
    "import os\n",
    "\n",
    "def verificar_palabra_ingresada(letras_de_la_palabra_a_encontrar, letras_de_la_palabra_ingresada):\n",
    "    # Crear una lista vacía para el resultado.\n",
    "    # Si las letras existen en la palabra a encontrar y sus posiciones coinciden: Encerrarlas en [] y agregar al resultado.\n",
    "    # Si las letras existen en la palabra a encontrar pero sus posiciones no coinciden: Encerrarlas en () y agregar al resultado.\n",
    "    # Si no se cumple ninguna de las anteriores, agregar al resultado sin hacer modificaciones.\n",
    "    # Retornar el resultado.\n",
    "\n",
    "\n",
    "    resultado = [] # Creamos una lista vacía para almacenar el resultado de una linea\n",
    "\n",
    "    for posicion_de_la_letra in range(0, cantidad_de_letras): # Iteramos por cada letra de la palabra ingresada\n",
    "\n",
    "        las_letras_son_iguales = letras_de_la_palabra_a_encontrar[posicion_de_la_letra] == letras_de_la_palabra_ingresada[posicion_de_la_letra]\n",
    "\n",
    "        la_letra_existe_en_la_palabra_a_encontrar = letras_de_la_palabra_ingresada[posicion_de_la_letra] in letras_de_la_palabra_a_encontrar\n",
    "        \n",
    "        if las_letras_son_iguales:\n",
    "            # guardar las letras que están en la palabra a encontrar y coinciden en la posición, dentro de brackets\n",
    "            resultado.append('['+ letras_de_la_palabra_ingresada[posicion_de_la_letra] +']')\n",
    "\n",
    "        elif la_letra_existe_en_la_palabra_a_encontrar:\n",
    "            # guardar las letras que no coinciden pero que están en la palabra a encontrar, dentro de parentesis\n",
    "            resultado.append('('+ letras_de_la_palabra_ingresada[posicion_de_la_letra] +')')\n",
    "\n",
    "        else:\n",
    "            # Las que no coinciden, se guardan sin modificiaciones\n",
    "            resultado.append(letras_de_la_palabra_ingresada[posicion_de_la_letra])\n",
    "\n",
    "    return resultado\n",
    "\n",
    "\n",
    "def imprimir_grilla(grilla):\n",
    "    cantidad_de_filas = len(grilla)\n",
    "\n",
    "    for fila in range(cantidad_de_filas):\n",
    "        print(grilla[fila])\n",
    "\n",
    "\n",
    "# Ejecución del programa\n",
    "\n",
    "palabra_a_encontrar = \"virus\"\n",
    "cantidad_de_letras = 5\n",
    "intentos = 6\n",
    "\n",
    "grilla = []\n",
    "\n",
    "os.system('clear')\n",
    "print(\"Bienvenido a Wordle!\")\n",
    "\n",
    "while intentos > 0:\n",
    "    print(\"Te quedan\", intentos, \"intentos.\")\n",
    "    palabra_ingresada = input(\"Ingrese una palabra: \")\n",
    "    intentos = intentos - 1\n",
    "\n",
    "    os.system('clear')\n",
    "    \n",
    "    letras_de_la_palabra_ingresada = list(palabra_ingresada)\n",
    "    letras_de_la_palabra_a_encontrar = list(palabra_a_encontrar)\n",
    "\n",
    "    if(len(letras_de_la_palabra_ingresada) != cantidad_de_letras):\n",
    "        print(\"La palabra ingresada no tiene la cantidad de letras correcta.\")\n",
    "        print(\" Ingresar una palabra con\", cantidad_de_letras, \"letras.\")\n",
    "        continue\n",
    "    else:\n",
    "        linea_verificada = verificar_palabra_ingresada(letras_de_la_palabra_a_encontrar, letras_de_la_palabra_ingresada)\n",
    "        grilla.append(linea_verificada)\n",
    "\n",
    "    imprimir_grilla(grilla)\n",
    "    if palabra_ingresada == palabra_a_encontrar:\n",
    "        print(\"Felicidades, ganaste. 🎉\")\n",
    "        break"
   ]
  },
  {
   "cell_type": "markdown",
   "metadata": {},
   "source": [
    "# Programacion orientada a objetos "
   ]
  },
  {
   "cell_type": "markdown",
   "metadata": {},
   "source": [
    "## Atributo de clases e instancia \n",
    "\n",
    "Crear dos class de animales que tengan atributos de clase y de instancia.\n",
    "\n",
    "- Atributos de clase: `especie`.\n",
    "- Atributos de instancia: `nombre` & `color`.\n",
    "Luego, crear nuevos objetos a partir de las nuevas class. Imprimir el nombre y el color de los animales en una frase que diga: \"Me llamo Alex y soy un ave de color blanco\"."
   ]
  },
  {
   "cell_type": "markdown",
   "metadata": {},
   "source": [
    "## Metodos \n",
    "\n",
    "Crear dos métodos por animal, que sea hablar y moverse.\n",
    "\n",
    "En el método hablar, imprimir: \"Cuando hablo, digo X\".\n",
    "En el método mover, imprimir: \"Cuando me muevo, hago X\".\n",
    "\n",
    "X debe ser algo específico de ese animal"
   ]
  },
  {
   "cell_type": "markdown",
   "metadata": {},
   "source": [
    "## Herencia \n",
    "\n",
    "Definir una clase madre que herede a sus clases hijas dos atributos de instancia. Mostrar ambos atributos en pantalla desde los objetos de las clases hijas.\n",
    "\n",
    "Observación: Editar las clases hijas para que no se inicialicen."
   ]
  },
  {
   "cell_type": "markdown",
   "metadata": {},
   "source": [
    "# Diccionarios"
   ]
  },
  {
   "cell_type": "markdown",
   "metadata": {},
   "source": [
    "## Challenge 1 🤺\n",
    "\n",
    "Escribir un programa que cree un diccionario vacío y lo vaya llenado con información sobre una persona (por ejemplo nombre, edad, sexo, teléfono, correo electrónico, etc.) que se le pida al usuario. Cada vez que se añada un nuevo dato debe imprimirse el contenido del diccionario."
   ]
  },
  {
   "cell_type": "markdown",
   "metadata": {},
   "source": [
    "## Challenge 2 🤺\n",
    "\n",
    "Crear una tarjeta personal. El usuario (mediante input) puede elegir:\n",
    "\n",
    "1. Crear datos nuevos\n",
    "2. Modificar datos\n",
    "3. Eliminar datos"
   ]
  },
  {
   "cell_type": "markdown",
   "metadata": {},
   "source": [
    "## Challenge 3 🤺\n",
    "Crear una agenda. El usuario puede elegir:\n",
    "\n",
    "1. Mostrar los contactos\n",
    "2. Crear contacto\n",
    "3. Modificar datos del contacto"
   ]
  },
  {
   "cell_type": "code",
   "execution_count": 1,
   "metadata": {},
   "outputs": [
    {
     "name": "stdout",
     "output_type": "stream",
     "text": [
      "hola yo soy pepito perez\n"
     ]
    }
   ],
   "source": [
    "nombre = \"pepito\"\n",
    "apellido = \"perez\"\n",
    "\n",
    "print(f\"hola yo soy {nombre} {apellido}\")"
   ]
  }
 ],
 "metadata": {
  "kernelspec": {
   "display_name": "Python 3.10.4 64-bit",
   "language": "python",
   "name": "python3"
  },
  "language_info": {
   "codemirror_mode": {
    "name": "ipython",
    "version": 3
   },
   "file_extension": ".py",
   "mimetype": "text/x-python",
   "name": "python",
   "nbconvert_exporter": "python",
   "pygments_lexer": "ipython3",
   "version": "3.10.4"
  },
  "orig_nbformat": 4,
  "vscode": {
   "interpreter": {
    "hash": "e593ac106456af50ce7af38f9671c411b49d6cd90f9b885e167f0f594e09038c"
   }
  }
 },
 "nbformat": 4,
 "nbformat_minor": 2
}
