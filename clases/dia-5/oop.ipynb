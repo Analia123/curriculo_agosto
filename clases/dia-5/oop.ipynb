{
 "cells": [
  {
   "cell_type": "markdown",
   "metadata": {},
   "source": [
    "## Programación orientada a objetos\n",
    "\n",
    "Python también nos permite representar cosas del mundo real, más fielmente por medio de estructuras de datos llamadas **objetos**.\n",
    "\n",
    "Tanto sus atributos (características y propiedades) como sus métodos (funciones que nos permiten interactuar con el objeto) se definen en una `clase`.\n",
    "\n",
    "Esta `clase` es como una plantilla para los objetos que queremos crear, como un molde.\n",
    "\n",
    "Luego ese molde se utiliza para crear la cantidad que necesitemos de los `objetos` de esa `clase`.\n",
    "\n"
   ]
  },
  {
   "cell_type": "code",
   "execution_count": 1,
   "metadata": {},
   "outputs": [
    {
     "name": "stdout",
     "output_type": "stream",
     "text": [
      "2\n"
     ]
    }
   ],
   "source": [
    "class Mascota:\n",
    "    ojos = 2\n",
    "\n",
    "mi_gato = Mascota()\n",
    "mi_perro = Mascota()\n",
    "# mi_otra_mascota = Mascota()\n",
    "\n",
    "print(mi_gato.ojos)\n",
    "# print(mi_otra_mascota.ojos)"
   ]
  },
  {
   "cell_type": "markdown",
   "metadata": {},
   "source": [
    "## Definiendo atributos\n",
    "Es importante distinguir que existen dos tipos de atributos:\n",
    "\n",
    "Atributos de clase: Son atributos cuyos valores definen a la clase, por lo tanto serán comunes para todos los objetos. (Mostrar el que ya teníamos arriba)\n",
    "\n",
    "Atributos de instancia: Son atributos cuyos valores son específicos de los objetos creados (la instancia). En nuestro caso, de ambas mascotas tiene el atributo `nombre`, pero cada una tiene un valor diferente, que se define al crear el objeto. (Mostrar los de instancia)\n"
   ]
  },
  {
   "cell_type": "code",
   "execution_count": null,
   "metadata": {},
   "outputs": [],
   "source": [
    "class Mascota:\n",
    "    ojos = 2\n",
    "\n",
    "    def __init__(self, nombre):\n",
    "        self.nombre = nombre\n",
    "\n",
    "mi_mascota = Mascota(\"Oliver\")\n",
    "# mi_otra_mascota = Mascota(\"Oliver\")\n",
    "\n",
    "print(mi_mascota.nombre, mi_mascota.ojos)\n",
    "# print(mi_otra_mascota.nombre, mi_otra_mascota.ojos)"
   ]
  },
  {
   "cell_type": "markdown",
   "metadata": {},
   "source": [
    "## Challenge 🤺\n",
    "\n",
    "Crear dos class de animales que tengan atributos de clase y de instancia.\n",
    "\n",
    "- Atributos de clase: `especie`.\n",
    "- Atributos de instancia: `nombre` & `color`.\n",
    "Luego, crear nuevos objetos a partir de las nuevas class. Imprimir el nombre y el color de los animales en una frase que diga: \"Me llamo `{nombre}` y soy un ave de color `{color}`\"."
   ]
  },
  {
   "cell_type": "code",
   "execution_count": 5,
   "metadata": {},
   "outputs": [
    {
     "name": "stdout",
     "output_type": "stream",
     "text": [
      "Me llamo Michi y soy un felino de color gris\n",
      "Me llamo Rene y soy un anfibio de color Verde\n"
     ]
    }
   ],
   "source": [
    "class Gato:\n",
    "    especie = \"felino\"\n",
    "\n",
    "    def __init__ (self, nombre, color):\n",
    "        self.nombre = nombre\n",
    "        self.color = color\n",
    "\n",
    "gato1 = Gato(\"Michi\", \"gris\")\n",
    "\n",
    "class Rana:\n",
    "    especie = \"anfibio\"\n",
    "\n",
    "    def __init__ (self, nombre, color):\n",
    "        self.nombre = nombre\n",
    "        self.color = color\n",
    "\n",
    "rana1 = Rana(\"Rene\", \"Verde\")\n",
    "\n",
    "print(\"Me llamo\", gato1.nombre, \"y soy un\", Gato.especie, \"de color\", gato1.color)\n",
    "print(\"Me llamo\", rana1.nombre, \"y soy un\", Rana.especie, \"de color\", rana1.color)\n"
   ]
  },
  {
   "cell_type": "markdown",
   "metadata": {},
   "source": [
    "## Definiendo métodos\n",
    "En realidad cuando usamos `__init__` anteriormente ya estábamos definiendo un método, solo que uno especial. Uno que se ejecuta al momento de crear un objeto. A continuación vamos a ver como definir métodos que le den alguna funcionalidad interesante a nuestra clase"
   ]
  },
  {
   "cell_type": "code",
   "execution_count": 6,
   "metadata": {},
   "outputs": [
    {
     "name": "stdout",
     "output_type": "stream",
     "text": [
      "zzZzZzZz, 7 horas\n",
      "2 Paco\n"
     ]
    }
   ],
   "source": [
    "class Mascota:\n",
    "    ojos = 2\n",
    "\n",
    "    def __init__(self, nombre):\n",
    "        self.nombre = nombre\n",
    "    \n",
    "\n",
    "    def caminar(self):\n",
    "        print(\"Estoy caminando\")\n",
    "\n",
    "    def dormir(self, horas):\n",
    "        print(f\"zzZzZzZz, {horas} horas\")\n",
    "\n",
    "    def comer(self, kg_de_comida, comida):\n",
    "        print(\"Comí \" + kg_de_comida + \" Kg de \" + comida)\n",
    "\n",
    "\n",
    "mi_mascota = Mascota(\"Paco\")\n",
    "mi_mascota.dormir(7)\n",
    "# mi_otra_mascota = Mascota(\"Firulais\")\n",
    "\n",
    "print(mi_mascota.ojos, mi_mascota.nombre)\n",
    "# print(mi_otra_mascota.nombre, mi_otra_mascota.ojos)"
   ]
  },
  {
   "cell_type": "markdown",
   "metadata": {},
   "source": [
    "## Challenge 🤺\n",
    "Crear dos métodos por animal, que sea hablar y moverse.\n",
    "\n",
    "En el método hablar, imprimir: \"Cuando hablo, digo X\".\n",
    "En el método mover, imprimir: \"Cuando me muevo, hago X\".\n",
    "\n",
    "X debe ser algo específico de ese animal"
   ]
  },
  {
   "cell_type": "code",
   "execution_count": null,
   "metadata": {},
   "outputs": [],
   "source": [
    "# Solución de participante\n",
    "\n",
    "class Gato:\n",
    "    Especie = \"felino\"\n",
    "    def __init__(self, nombre, color):\n",
    "        print(\"Hola mi nombre es \" + nombre + \" \" \"y soy un gato de color \" + color)\n",
    "        self.nombre = nombre\n",
    "        self.color = color\n",
    "    def habla(self, habla):\n",
    "        print(\"Lo unico que mi gato sabe decir es\" + habla + \" \" \"lastimosamente\")\n",
    "    def pasos(self, paso):\n",
    "        print(f\"El gato cuando tiene hambre va a la cocina que esta a {paso} pasos de su arenero.\")\n",
    "mi_gato = Gato(\"Aquiles\", \"Blanco\")\n",
    "\n",
    "mi_gato.habla(\"Miau\")\n",
    "mi_gato.pasos(100)"
   ]
  },
  {
   "cell_type": "markdown",
   "metadata": {},
   "source": [
    "## Herencia\n",
    "Ojo! Esto no es una herencia como tal, sino una relación entre clases.\n",
    "Lo que representa la herencia es que una clase hereda los atributos y métodos de otra clase. (mostrar ejemplo)\n",
    "\n",
    "Dado que una clase hija hereda los atributos y métodos de la padre, nos puede ser muy útil cuando tengamos clases que se parecen entre sí pero tienen ciertas particularidades"
   ]
  },
  {
   "cell_type": "code",
   "execution_count": 12,
   "metadata": {},
   "outputs": [
    {
     "name": "stdout",
     "output_type": "stream",
     "text": [
      "10\n"
     ]
    },
    {
     "ename": "AttributeError",
     "evalue": "'Dragon' object has no attribute 'color'",
     "output_type": "error",
     "traceback": [
      "\u001b[1;31m---------------------------------------------------------------------------\u001b[0m",
      "\u001b[1;31mAttributeError\u001b[0m                            Traceback (most recent call last)",
      "\u001b[1;32mc:\\Users\\PC\\Desktop\\PenguinMaterials\\curriculo_agosto\\clases\\dia-5\\oop.ipynb Cell 12\u001b[0m in \u001b[0;36m<cell line: 37>\u001b[1;34m()\u001b[0m\n\u001b[0;32m     <a href='vscode-notebook-cell:/c%3A/Users/PC/Desktop/PenguinMaterials/curriculo_agosto/clases/dia-5/oop.ipynb#X14sZmlsZQ%3D%3D?line=33'>34</a>\u001b[0m \u001b[39mprint\u001b[39m(mi_serpiente\u001b[39m.\u001b[39mveneno)\n\u001b[0;32m     <a href='vscode-notebook-cell:/c%3A/Users/PC/Desktop/PenguinMaterials/curriculo_agosto/clases/dia-5/oop.ipynb#X14sZmlsZQ%3D%3D?line=35'>36</a>\u001b[0m mi_dragon \u001b[39m=\u001b[39m Dragon(\u001b[39m\"\u001b[39m\u001b[39mhsjhdasd\u001b[39m\u001b[39m\"\u001b[39m)\n\u001b[1;32m---> <a href='vscode-notebook-cell:/c%3A/Users/PC/Desktop/PenguinMaterials/curriculo_agosto/clases/dia-5/oop.ipynb#X14sZmlsZQ%3D%3D?line=36'>37</a>\u001b[0m \u001b[39mprint\u001b[39m(mi_dragon\u001b[39m.\u001b[39;49mcolor)\n",
      "\u001b[1;31mAttributeError\u001b[0m: 'Dragon' object has no attribute 'color'"
     ]
    }
   ],
   "source": [
    "class Reptil:\n",
    "    tipo = \"Reptil\"\n",
    "\n",
    "    def __init__(self, color, sonido):\n",
    "        self.color = color\n",
    "        self.sonido = sonido\n",
    "\n",
    "    # Método genérico pero con implementación particular\n",
    "    def hablar(self):\n",
    "        pass\n",
    "\n",
    "    # Método genérico con la misma implementación\n",
    "    def presentarse(self):\n",
    "        print(\"Soy un animal del tipo\", self.tipo)\n",
    "\n",
    "class Serpiente(Reptil):\n",
    "    veneno = 10 # lts\n",
    "\n",
    "    def arrastrarse(self):\n",
    "        print(\"Estoy arrastrando\")\n",
    "\n",
    "class Dragon(Reptil):\n",
    "    garras = 4\n",
    "    \n",
    "    def __init__ (self, talk):\n",
    "        self.talk = talk\n",
    "\n",
    "    def escupir_fuego(self):\n",
    "        print(\"Estoy escupiendo fuego\")\n",
    "\n",
    "\n",
    "mi_serpiente = Serpiente(\"azul\", \"Ssss\")\n",
    "\n",
    "print(mi_serpiente.veneno)\n",
    "\n",
    "mi_dragon = Dragon(\"hsjhdasd\")\n",
    "print(mi_dragon.color)"
   ]
  },
  {
   "cell_type": "markdown",
   "metadata": {},
   "source": [
    "## Challenge 🤺\n",
    "Definir una clase madre que herede a sus clases hijas dos atributos de instancia. Mostrar ambos atributos en pantalla desde los objetos de las clases hijas.\n",
    "\n",
    "Observación: Editar las clases hijas para que no se inicialicen."
   ]
  },
  {
   "cell_type": "code",
   "execution_count": 11,
   "metadata": {},
   "outputs": [
    {
     "name": "stdout",
     "output_type": "stream",
     "text": [
      "True\n",
      "True\n",
      "Soy un terricola del tipo  Humanos\n"
     ]
    }
   ],
   "source": [
    "# Solución de participante\n",
    "\n",
    "class Terricolas:\n",
    "    def __init__ (self, respirar_carbono, luz_solar):\n",
    "        self.respirar_carbono = respirar_carbono\n",
    "        self.luz_solar = luz_solar\n",
    "\n",
    "class Humanos(Terricolas):\n",
    "    categoria= \"Terrestres\"\n",
    "\n",
    "    def describeme(self):\n",
    "        print(\"Soy un terricola del tipo \", type(self).__name__)\n",
    "\n",
    "\n",
    "\n",
    "paladin = Humanos(True,True)\n",
    "print(paladin.respirar_carbono)\n",
    "print(paladin.luz_solar)\n",
    "paladin.describeme()"
   ]
  }
 ],
 "metadata": {
  "kernelspec": {
   "display_name": "Python 3.10.4 64-bit",
   "language": "python",
   "name": "python3"
  },
  "language_info": {
   "codemirror_mode": {
    "name": "ipython",
    "version": 3
   },
   "file_extension": ".py",
   "mimetype": "text/x-python",
   "name": "python",
   "nbconvert_exporter": "python",
   "pygments_lexer": "ipython3",
   "version": "3.10.4"
  },
  "orig_nbformat": 4,
  "vscode": {
   "interpreter": {
    "hash": "e593ac106456af50ce7af38f9671c411b49d6cd90f9b885e167f0f594e09038c"
   }
  }
 },
 "nbformat": 4,
 "nbformat_minor": 2
}
